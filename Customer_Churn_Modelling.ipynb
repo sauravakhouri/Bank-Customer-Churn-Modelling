{
  "nbformat": 4,
  "nbformat_minor": 0,
  "metadata": {
    "colab": {
      "name": "Customer Churn Modelling.ipynb",
      "provenance": [],
      "collapsed_sections": []
    },
    "kernelspec": {
      "name": "python3",
      "display_name": "Python 3"
    },
    "language_info": {
      "name": "python"
    }
  },
  "cells": [
    {
      "cell_type": "code",
      "metadata": {
        "id": "MPOGVeb4T9hx"
      },
      "source": [
        "# A churn model is a mathematical representation of how churn impacts your business. \n",
        "# Churn calculations are built on existing data (the number of customers who left your service during a given time period). \n",
        "# A predictive churn model extrapolates on this data to show future potential churn rates.\n",
        "\n",
        "# Usi`ng the existing bank data we need to predict customers who would be leaving the bank in future"
      ],
      "execution_count": null,
      "outputs": []
    },
    {
      "cell_type": "code",
      "metadata": {
        "id": "rXfBX5llWZC1"
      },
      "source": [
        "# Artifical Neural Networok"
      ],
      "execution_count": 1,
      "outputs": []
    },
    {
      "cell_type": "code",
      "metadata": {
        "id": "BRKQEl5vWBGr"
      },
      "source": [
        "import pandas as pd\n",
        "import numpy as np\n",
        "import matplotlib.pyplot as plt\n",
        "\n",
        "from sklearn.model_selection import train_test_split\n",
        "from sklearn.preprocessing import StandardScaler\n",
        "\n",
        "from tensorflow.keras.models import Sequential\n",
        "from tensorflow.keras.layers import Dense, Dropout\n",
        "# from tensorflow.keras.layers import LeakyReLU, PReLU, ELU\n",
        "from sklearn.metrics import confusion_matrix\n",
        "from sklearn.metrics import accuracy_score\n"
      ],
      "execution_count": 62,
      "outputs": []
    },
    {
      "cell_type": "code",
      "metadata": {
        "colab": {
          "base_uri": "https://localhost:8080/",
          "height": 223
        },
        "id": "I2zl4422WqQu",
        "outputId": "9061c9ed-c625-45a8-e1e7-4a7d4b80d33b"
      },
      "source": [
        "dataset=pd.read_csv(\"Churn_Modelling.csv\")\n",
        "dataset.head()"
      ],
      "execution_count": 49,
      "outputs": [
        {
          "output_type": "execute_result",
          "data": {
            "text/html": [
              "<div>\n",
              "<style scoped>\n",
              "    .dataframe tbody tr th:only-of-type {\n",
              "        vertical-align: middle;\n",
              "    }\n",
              "\n",
              "    .dataframe tbody tr th {\n",
              "        vertical-align: top;\n",
              "    }\n",
              "\n",
              "    .dataframe thead th {\n",
              "        text-align: right;\n",
              "    }\n",
              "</style>\n",
              "<table border=\"1\" class=\"dataframe\">\n",
              "  <thead>\n",
              "    <tr style=\"text-align: right;\">\n",
              "      <th></th>\n",
              "      <th>RowNumber</th>\n",
              "      <th>CustomerId</th>\n",
              "      <th>Surname</th>\n",
              "      <th>CreditScore</th>\n",
              "      <th>Geography</th>\n",
              "      <th>Gender</th>\n",
              "      <th>Age</th>\n",
              "      <th>Tenure</th>\n",
              "      <th>Balance</th>\n",
              "      <th>NumOfProducts</th>\n",
              "      <th>HasCrCard</th>\n",
              "      <th>IsActiveMember</th>\n",
              "      <th>EstimatedSalary</th>\n",
              "      <th>Exited</th>\n",
              "    </tr>\n",
              "  </thead>\n",
              "  <tbody>\n",
              "    <tr>\n",
              "      <th>0</th>\n",
              "      <td>1</td>\n",
              "      <td>15634602</td>\n",
              "      <td>Hargrave</td>\n",
              "      <td>619</td>\n",
              "      <td>France</td>\n",
              "      <td>Female</td>\n",
              "      <td>42</td>\n",
              "      <td>2</td>\n",
              "      <td>0.00</td>\n",
              "      <td>1</td>\n",
              "      <td>1</td>\n",
              "      <td>1</td>\n",
              "      <td>101348.88</td>\n",
              "      <td>1</td>\n",
              "    </tr>\n",
              "    <tr>\n",
              "      <th>1</th>\n",
              "      <td>2</td>\n",
              "      <td>15647311</td>\n",
              "      <td>Hill</td>\n",
              "      <td>608</td>\n",
              "      <td>Spain</td>\n",
              "      <td>Female</td>\n",
              "      <td>41</td>\n",
              "      <td>1</td>\n",
              "      <td>83807.86</td>\n",
              "      <td>1</td>\n",
              "      <td>0</td>\n",
              "      <td>1</td>\n",
              "      <td>112542.58</td>\n",
              "      <td>0</td>\n",
              "    </tr>\n",
              "    <tr>\n",
              "      <th>2</th>\n",
              "      <td>3</td>\n",
              "      <td>15619304</td>\n",
              "      <td>Onio</td>\n",
              "      <td>502</td>\n",
              "      <td>France</td>\n",
              "      <td>Female</td>\n",
              "      <td>42</td>\n",
              "      <td>8</td>\n",
              "      <td>159660.80</td>\n",
              "      <td>3</td>\n",
              "      <td>1</td>\n",
              "      <td>0</td>\n",
              "      <td>113931.57</td>\n",
              "      <td>1</td>\n",
              "    </tr>\n",
              "    <tr>\n",
              "      <th>3</th>\n",
              "      <td>4</td>\n",
              "      <td>15701354</td>\n",
              "      <td>Boni</td>\n",
              "      <td>699</td>\n",
              "      <td>France</td>\n",
              "      <td>Female</td>\n",
              "      <td>39</td>\n",
              "      <td>1</td>\n",
              "      <td>0.00</td>\n",
              "      <td>2</td>\n",
              "      <td>0</td>\n",
              "      <td>0</td>\n",
              "      <td>93826.63</td>\n",
              "      <td>0</td>\n",
              "    </tr>\n",
              "    <tr>\n",
              "      <th>4</th>\n",
              "      <td>5</td>\n",
              "      <td>15737888</td>\n",
              "      <td>Mitchell</td>\n",
              "      <td>850</td>\n",
              "      <td>Spain</td>\n",
              "      <td>Female</td>\n",
              "      <td>43</td>\n",
              "      <td>2</td>\n",
              "      <td>125510.82</td>\n",
              "      <td>1</td>\n",
              "      <td>1</td>\n",
              "      <td>1</td>\n",
              "      <td>79084.10</td>\n",
              "      <td>0</td>\n",
              "    </tr>\n",
              "  </tbody>\n",
              "</table>\n",
              "</div>"
            ],
            "text/plain": [
              "   RowNumber  CustomerId   Surname  ...  IsActiveMember EstimatedSalary Exited\n",
              "0          1    15634602  Hargrave  ...               1       101348.88      1\n",
              "1          2    15647311      Hill  ...               1       112542.58      0\n",
              "2          3    15619304      Onio  ...               0       113931.57      1\n",
              "3          4    15701354      Boni  ...               0        93826.63      0\n",
              "4          5    15737888  Mitchell  ...               1        79084.10      0\n",
              "\n",
              "[5 rows x 14 columns]"
            ]
          },
          "metadata": {
            "tags": []
          },
          "execution_count": 49
        }
      ]
    },
    {
      "cell_type": "code",
      "metadata": {
        "id": "NJSGzZKkW3LE"
      },
      "source": [
        "# Splitting X and y varibales\n",
        "\n",
        "X= dataset.iloc[:,3:13]\n",
        "y=dataset.iloc[:,13]"
      ],
      "execution_count": 50,
      "outputs": []
    },
    {
      "cell_type": "code",
      "metadata": {
        "id": "u8Y36poVXIz-"
      },
      "source": [
        "# Create dummy variable\n",
        "\n",
        "geography= pd.get_dummies(X[\"Geography\"])\n",
        "gender=pd.get_dummies(X['Gender'])"
      ],
      "execution_count": 51,
      "outputs": []
    },
    {
      "cell_type": "code",
      "metadata": {
        "id": "qItj-XDKXJqj"
      },
      "source": [
        "# Concatenating dummy variable with the X \n",
        "\n",
        "X=pd.concat([X,geography,gender],axis=1)"
      ],
      "execution_count": 52,
      "outputs": []
    },
    {
      "cell_type": "code",
      "metadata": {
        "id": "7oAbdW1IYqit"
      },
      "source": [
        "# Drop the original Geography and gender column\n",
        "X=X.drop(['Geography','Gender'],axis=1)"
      ],
      "execution_count": 53,
      "outputs": []
    },
    {
      "cell_type": "code",
      "metadata": {
        "colab": {
          "base_uri": "https://localhost:8080/",
          "height": 417
        },
        "id": "5_9NUzg7ZG9Q",
        "outputId": "08cdd42f-73bf-46b8-9865-cc0689a3133a"
      },
      "source": [
        "X"
      ],
      "execution_count": 54,
      "outputs": [
        {
          "output_type": "execute_result",
          "data": {
            "text/html": [
              "<div>\n",
              "<style scoped>\n",
              "    .dataframe tbody tr th:only-of-type {\n",
              "        vertical-align: middle;\n",
              "    }\n",
              "\n",
              "    .dataframe tbody tr th {\n",
              "        vertical-align: top;\n",
              "    }\n",
              "\n",
              "    .dataframe thead th {\n",
              "        text-align: right;\n",
              "    }\n",
              "</style>\n",
              "<table border=\"1\" class=\"dataframe\">\n",
              "  <thead>\n",
              "    <tr style=\"text-align: right;\">\n",
              "      <th></th>\n",
              "      <th>CreditScore</th>\n",
              "      <th>Age</th>\n",
              "      <th>Tenure</th>\n",
              "      <th>Balance</th>\n",
              "      <th>NumOfProducts</th>\n",
              "      <th>HasCrCard</th>\n",
              "      <th>IsActiveMember</th>\n",
              "      <th>EstimatedSalary</th>\n",
              "      <th>France</th>\n",
              "      <th>Germany</th>\n",
              "      <th>Spain</th>\n",
              "      <th>Female</th>\n",
              "      <th>Male</th>\n",
              "    </tr>\n",
              "  </thead>\n",
              "  <tbody>\n",
              "    <tr>\n",
              "      <th>0</th>\n",
              "      <td>619</td>\n",
              "      <td>42</td>\n",
              "      <td>2</td>\n",
              "      <td>0.00</td>\n",
              "      <td>1</td>\n",
              "      <td>1</td>\n",
              "      <td>1</td>\n",
              "      <td>101348.88</td>\n",
              "      <td>1</td>\n",
              "      <td>0</td>\n",
              "      <td>0</td>\n",
              "      <td>1</td>\n",
              "      <td>0</td>\n",
              "    </tr>\n",
              "    <tr>\n",
              "      <th>1</th>\n",
              "      <td>608</td>\n",
              "      <td>41</td>\n",
              "      <td>1</td>\n",
              "      <td>83807.86</td>\n",
              "      <td>1</td>\n",
              "      <td>0</td>\n",
              "      <td>1</td>\n",
              "      <td>112542.58</td>\n",
              "      <td>0</td>\n",
              "      <td>0</td>\n",
              "      <td>1</td>\n",
              "      <td>1</td>\n",
              "      <td>0</td>\n",
              "    </tr>\n",
              "    <tr>\n",
              "      <th>2</th>\n",
              "      <td>502</td>\n",
              "      <td>42</td>\n",
              "      <td>8</td>\n",
              "      <td>159660.80</td>\n",
              "      <td>3</td>\n",
              "      <td>1</td>\n",
              "      <td>0</td>\n",
              "      <td>113931.57</td>\n",
              "      <td>1</td>\n",
              "      <td>0</td>\n",
              "      <td>0</td>\n",
              "      <td>1</td>\n",
              "      <td>0</td>\n",
              "    </tr>\n",
              "    <tr>\n",
              "      <th>3</th>\n",
              "      <td>699</td>\n",
              "      <td>39</td>\n",
              "      <td>1</td>\n",
              "      <td>0.00</td>\n",
              "      <td>2</td>\n",
              "      <td>0</td>\n",
              "      <td>0</td>\n",
              "      <td>93826.63</td>\n",
              "      <td>1</td>\n",
              "      <td>0</td>\n",
              "      <td>0</td>\n",
              "      <td>1</td>\n",
              "      <td>0</td>\n",
              "    </tr>\n",
              "    <tr>\n",
              "      <th>4</th>\n",
              "      <td>850</td>\n",
              "      <td>43</td>\n",
              "      <td>2</td>\n",
              "      <td>125510.82</td>\n",
              "      <td>1</td>\n",
              "      <td>1</td>\n",
              "      <td>1</td>\n",
              "      <td>79084.10</td>\n",
              "      <td>0</td>\n",
              "      <td>0</td>\n",
              "      <td>1</td>\n",
              "      <td>1</td>\n",
              "      <td>0</td>\n",
              "    </tr>\n",
              "    <tr>\n",
              "      <th>...</th>\n",
              "      <td>...</td>\n",
              "      <td>...</td>\n",
              "      <td>...</td>\n",
              "      <td>...</td>\n",
              "      <td>...</td>\n",
              "      <td>...</td>\n",
              "      <td>...</td>\n",
              "      <td>...</td>\n",
              "      <td>...</td>\n",
              "      <td>...</td>\n",
              "      <td>...</td>\n",
              "      <td>...</td>\n",
              "      <td>...</td>\n",
              "    </tr>\n",
              "    <tr>\n",
              "      <th>9995</th>\n",
              "      <td>771</td>\n",
              "      <td>39</td>\n",
              "      <td>5</td>\n",
              "      <td>0.00</td>\n",
              "      <td>2</td>\n",
              "      <td>1</td>\n",
              "      <td>0</td>\n",
              "      <td>96270.64</td>\n",
              "      <td>1</td>\n",
              "      <td>0</td>\n",
              "      <td>0</td>\n",
              "      <td>0</td>\n",
              "      <td>1</td>\n",
              "    </tr>\n",
              "    <tr>\n",
              "      <th>9996</th>\n",
              "      <td>516</td>\n",
              "      <td>35</td>\n",
              "      <td>10</td>\n",
              "      <td>57369.61</td>\n",
              "      <td>1</td>\n",
              "      <td>1</td>\n",
              "      <td>1</td>\n",
              "      <td>101699.77</td>\n",
              "      <td>1</td>\n",
              "      <td>0</td>\n",
              "      <td>0</td>\n",
              "      <td>0</td>\n",
              "      <td>1</td>\n",
              "    </tr>\n",
              "    <tr>\n",
              "      <th>9997</th>\n",
              "      <td>709</td>\n",
              "      <td>36</td>\n",
              "      <td>7</td>\n",
              "      <td>0.00</td>\n",
              "      <td>1</td>\n",
              "      <td>0</td>\n",
              "      <td>1</td>\n",
              "      <td>42085.58</td>\n",
              "      <td>1</td>\n",
              "      <td>0</td>\n",
              "      <td>0</td>\n",
              "      <td>1</td>\n",
              "      <td>0</td>\n",
              "    </tr>\n",
              "    <tr>\n",
              "      <th>9998</th>\n",
              "      <td>772</td>\n",
              "      <td>42</td>\n",
              "      <td>3</td>\n",
              "      <td>75075.31</td>\n",
              "      <td>2</td>\n",
              "      <td>1</td>\n",
              "      <td>0</td>\n",
              "      <td>92888.52</td>\n",
              "      <td>0</td>\n",
              "      <td>1</td>\n",
              "      <td>0</td>\n",
              "      <td>0</td>\n",
              "      <td>1</td>\n",
              "    </tr>\n",
              "    <tr>\n",
              "      <th>9999</th>\n",
              "      <td>792</td>\n",
              "      <td>28</td>\n",
              "      <td>4</td>\n",
              "      <td>130142.79</td>\n",
              "      <td>1</td>\n",
              "      <td>1</td>\n",
              "      <td>0</td>\n",
              "      <td>38190.78</td>\n",
              "      <td>1</td>\n",
              "      <td>0</td>\n",
              "      <td>0</td>\n",
              "      <td>1</td>\n",
              "      <td>0</td>\n",
              "    </tr>\n",
              "  </tbody>\n",
              "</table>\n",
              "<p>10000 rows × 13 columns</p>\n",
              "</div>"
            ],
            "text/plain": [
              "      CreditScore  Age  Tenure    Balance  ...  Germany  Spain  Female  Male\n",
              "0             619   42       2       0.00  ...        0      0       1     0\n",
              "1             608   41       1   83807.86  ...        0      1       1     0\n",
              "2             502   42       8  159660.80  ...        0      0       1     0\n",
              "3             699   39       1       0.00  ...        0      0       1     0\n",
              "4             850   43       2  125510.82  ...        0      1       1     0\n",
              "...           ...  ...     ...        ...  ...      ...    ...     ...   ...\n",
              "9995          771   39       5       0.00  ...        0      0       0     1\n",
              "9996          516   35      10   57369.61  ...        0      0       0     1\n",
              "9997          709   36       7       0.00  ...        0      0       1     0\n",
              "9998          772   42       3   75075.31  ...        1      0       0     1\n",
              "9999          792   28       4  130142.79  ...        0      0       1     0\n",
              "\n",
              "[10000 rows x 13 columns]"
            ]
          },
          "metadata": {
            "tags": []
          },
          "execution_count": 54
        }
      ]
    },
    {
      "cell_type": "code",
      "metadata": {
        "id": "fiAaUWR3ZIOX"
      },
      "source": [
        "# splitting data into traina dn test split\n",
        "X_train,X_test,y_train,y_test=train_test_split(X,y,test_size=0.2,random_state=0)"
      ],
      "execution_count": 55,
      "outputs": []
    },
    {
      "cell_type": "code",
      "metadata": {
        "id": "dR8YdyJvbAOm"
      },
      "source": [
        "#Feature Scaling\n",
        "sc=StandardScaler()\n",
        "X_train=sc.fit_transform(X_train)\n",
        "X_test=sc.transform(X_test)\n"
      ],
      "execution_count": 56,
      "outputs": []
    },
    {
      "cell_type": "code",
      "metadata": {
        "id": "8_EQkh6abmBx"
      },
      "source": [
        "#Creating an ANN\n",
        "\n",
        "# Initializing the ANN\n",
        "\n",
        "classifier= Sequential()\n",
        "\n",
        "classifier.add(Dense(units=10, kernel_initializer='he_normal',activation='relu'))  #first hidden layer has 6 neurons\n",
        "classifier.add(Dropout(0.3)) adding the dropout  layer\n",
        "classifier.add(Dense(units=20, kernel_initializer='he_normal', activation='relu'))\n",
        "classifier.add(Dropout(0.4))\n",
        "classifier.add(Dense(units=15, kernel_initializer='he_normal', activation='relu'))\n",
        "classifier.add(Dropout(0.2))\n",
        "classifier.add(Dense(units=1, kernel_initializer='glorot_uniform', activation='sigmoid')) #output layer\n"
      ],
      "execution_count": 79,
      "outputs": []
    },
    {
      "cell_type": "code",
      "metadata": {
        "id": "2RXt8MiIfIbX"
      },
      "source": [
        "# Compiling thhe Model\n",
        "\n",
        "classifier.compile(optimizer='adam', loss='binary_crossentropy',metrics=['accuracy'])"
      ],
      "execution_count": 80,
      "outputs": []
    },
    {
      "cell_type": "code",
      "metadata": {
        "colab": {
          "base_uri": "https://localhost:8080/"
        },
        "id": "Ak9omoKIf77E",
        "outputId": "8f93f033-762d-4bdd-f261-235843978048"
      },
      "source": [
        "# Fitting the ANN to the training set\n",
        "\n",
        "model_history=classifier.fit(X_train,y_train,validation_split=0.33,batch_size=10,epochs=100)"
      ],
      "execution_count": 81,
      "outputs": [
        {
          "output_type": "stream",
          "text": [
            "Epoch 1/100\n",
            "536/536 [==============================] - 2s 2ms/step - loss: 0.5550 - accuracy: 0.7783 - val_loss: 0.4663 - val_accuracy: 0.7970\n",
            "Epoch 2/100\n",
            "536/536 [==============================] - 1s 2ms/step - loss: 0.4991 - accuracy: 0.7914 - val_loss: 0.4538 - val_accuracy: 0.7982\n",
            "Epoch 3/100\n",
            "536/536 [==============================] - 1s 2ms/step - loss: 0.4712 - accuracy: 0.7994 - val_loss: 0.4419 - val_accuracy: 0.7989\n",
            "Epoch 4/100\n",
            "536/536 [==============================] - 1s 2ms/step - loss: 0.4608 - accuracy: 0.8048 - val_loss: 0.4420 - val_accuracy: 0.8027\n",
            "Epoch 5/100\n",
            "536/536 [==============================] - 1s 2ms/step - loss: 0.4590 - accuracy: 0.8016 - val_loss: 0.4351 - val_accuracy: 0.8016\n",
            "Epoch 6/100\n",
            "536/536 [==============================] - 1s 2ms/step - loss: 0.4524 - accuracy: 0.8059 - val_loss: 0.4353 - val_accuracy: 0.8137\n",
            "Epoch 7/100\n",
            "536/536 [==============================] - 1s 2ms/step - loss: 0.4566 - accuracy: 0.7981 - val_loss: 0.4294 - val_accuracy: 0.8061\n",
            "Epoch 8/100\n",
            "536/536 [==============================] - 1s 2ms/step - loss: 0.4428 - accuracy: 0.8085 - val_loss: 0.4264 - val_accuracy: 0.8156\n",
            "Epoch 9/100\n",
            "536/536 [==============================] - 1s 2ms/step - loss: 0.4373 - accuracy: 0.8061 - val_loss: 0.4256 - val_accuracy: 0.8209\n",
            "Epoch 10/100\n",
            "536/536 [==============================] - 1s 2ms/step - loss: 0.4381 - accuracy: 0.8115 - val_loss: 0.4266 - val_accuracy: 0.8194\n",
            "Epoch 11/100\n",
            "536/536 [==============================] - 1s 2ms/step - loss: 0.4290 - accuracy: 0.8149 - val_loss: 0.4256 - val_accuracy: 0.8224\n",
            "Epoch 12/100\n",
            "536/536 [==============================] - 1s 2ms/step - loss: 0.4312 - accuracy: 0.8117 - val_loss: 0.4150 - val_accuracy: 0.8243\n",
            "Epoch 13/100\n",
            "536/536 [==============================] - 1s 2ms/step - loss: 0.4269 - accuracy: 0.8147 - val_loss: 0.4123 - val_accuracy: 0.8281\n",
            "Epoch 14/100\n",
            "536/536 [==============================] - 1s 2ms/step - loss: 0.4180 - accuracy: 0.8186 - val_loss: 0.4064 - val_accuracy: 0.8304\n",
            "Epoch 15/100\n",
            "536/536 [==============================] - 1s 2ms/step - loss: 0.4175 - accuracy: 0.8214 - val_loss: 0.4076 - val_accuracy: 0.8319\n",
            "Epoch 16/100\n",
            "536/536 [==============================] - 1s 2ms/step - loss: 0.4167 - accuracy: 0.8153 - val_loss: 0.4037 - val_accuracy: 0.8323\n",
            "Epoch 17/100\n",
            "536/536 [==============================] - 1s 2ms/step - loss: 0.4132 - accuracy: 0.8190 - val_loss: 0.3981 - val_accuracy: 0.8338\n",
            "Epoch 18/100\n",
            "536/536 [==============================] - 1s 2ms/step - loss: 0.4134 - accuracy: 0.8207 - val_loss: 0.4028 - val_accuracy: 0.8311\n",
            "Epoch 19/100\n",
            "536/536 [==============================] - 1s 2ms/step - loss: 0.4038 - accuracy: 0.8293 - val_loss: 0.3932 - val_accuracy: 0.8326\n",
            "Epoch 20/100\n",
            "536/536 [==============================] - 1s 2ms/step - loss: 0.4061 - accuracy: 0.8287 - val_loss: 0.3905 - val_accuracy: 0.8376\n",
            "Epoch 21/100\n",
            "536/536 [==============================] - 1s 2ms/step - loss: 0.4049 - accuracy: 0.8289 - val_loss: 0.3952 - val_accuracy: 0.8368\n",
            "Epoch 22/100\n",
            "536/536 [==============================] - 1s 2ms/step - loss: 0.3970 - accuracy: 0.8306 - val_loss: 0.3834 - val_accuracy: 0.8379\n",
            "Epoch 23/100\n",
            "536/536 [==============================] - 1s 2ms/step - loss: 0.3950 - accuracy: 0.8306 - val_loss: 0.3836 - val_accuracy: 0.8391\n",
            "Epoch 24/100\n",
            "536/536 [==============================] - 1s 2ms/step - loss: 0.3965 - accuracy: 0.8365 - val_loss: 0.3798 - val_accuracy: 0.8455\n",
            "Epoch 25/100\n",
            "536/536 [==============================] - 1s 2ms/step - loss: 0.3851 - accuracy: 0.8350 - val_loss: 0.3708 - val_accuracy: 0.8455\n",
            "Epoch 26/100\n",
            "536/536 [==============================] - 1s 2ms/step - loss: 0.3857 - accuracy: 0.8380 - val_loss: 0.3706 - val_accuracy: 0.8459\n",
            "Epoch 27/100\n",
            "536/536 [==============================] - 1s 2ms/step - loss: 0.3809 - accuracy: 0.8369 - val_loss: 0.3658 - val_accuracy: 0.8440\n",
            "Epoch 28/100\n",
            "536/536 [==============================] - 1s 2ms/step - loss: 0.3844 - accuracy: 0.8388 - val_loss: 0.3694 - val_accuracy: 0.8493\n",
            "Epoch 29/100\n",
            "536/536 [==============================] - 1s 2ms/step - loss: 0.3847 - accuracy: 0.8341 - val_loss: 0.3669 - val_accuracy: 0.8482\n",
            "Epoch 30/100\n",
            "536/536 [==============================] - 1s 2ms/step - loss: 0.3846 - accuracy: 0.8388 - val_loss: 0.3688 - val_accuracy: 0.8482\n",
            "Epoch 31/100\n",
            "536/536 [==============================] - 1s 2ms/step - loss: 0.3796 - accuracy: 0.8414 - val_loss: 0.3695 - val_accuracy: 0.8516\n",
            "Epoch 32/100\n",
            "536/536 [==============================] - 1s 2ms/step - loss: 0.3774 - accuracy: 0.8419 - val_loss: 0.3662 - val_accuracy: 0.8516\n",
            "Epoch 33/100\n",
            "536/536 [==============================] - 1s 2ms/step - loss: 0.3846 - accuracy: 0.8444 - val_loss: 0.3710 - val_accuracy: 0.8470\n",
            "Epoch 34/100\n",
            "536/536 [==============================] - 1s 2ms/step - loss: 0.3787 - accuracy: 0.8442 - val_loss: 0.3659 - val_accuracy: 0.8478\n",
            "Epoch 35/100\n",
            "536/536 [==============================] - 1s 2ms/step - loss: 0.3794 - accuracy: 0.8455 - val_loss: 0.3662 - val_accuracy: 0.8493\n",
            "Epoch 36/100\n",
            "536/536 [==============================] - 1s 2ms/step - loss: 0.3825 - accuracy: 0.8406 - val_loss: 0.3696 - val_accuracy: 0.8516\n",
            "Epoch 37/100\n",
            "536/536 [==============================] - 1s 2ms/step - loss: 0.3766 - accuracy: 0.8429 - val_loss: 0.3713 - val_accuracy: 0.8516\n",
            "Epoch 38/100\n",
            "536/536 [==============================] - 1s 2ms/step - loss: 0.3792 - accuracy: 0.8423 - val_loss: 0.3699 - val_accuracy: 0.8531\n",
            "Epoch 39/100\n",
            "536/536 [==============================] - 1s 2ms/step - loss: 0.3770 - accuracy: 0.8462 - val_loss: 0.3653 - val_accuracy: 0.8527\n",
            "Epoch 40/100\n",
            "536/536 [==============================] - 1s 2ms/step - loss: 0.3729 - accuracy: 0.8494 - val_loss: 0.3666 - val_accuracy: 0.8569\n",
            "Epoch 41/100\n",
            "536/536 [==============================] - 1s 2ms/step - loss: 0.3802 - accuracy: 0.8410 - val_loss: 0.3682 - val_accuracy: 0.8523\n",
            "Epoch 42/100\n",
            "536/536 [==============================] - 1s 2ms/step - loss: 0.3739 - accuracy: 0.8474 - val_loss: 0.3681 - val_accuracy: 0.8512\n",
            "Epoch 43/100\n",
            "536/536 [==============================] - 1s 2ms/step - loss: 0.3795 - accuracy: 0.8440 - val_loss: 0.3687 - val_accuracy: 0.8516\n",
            "Epoch 44/100\n",
            "536/536 [==============================] - 1s 2ms/step - loss: 0.3792 - accuracy: 0.8434 - val_loss: 0.3658 - val_accuracy: 0.8523\n",
            "Epoch 45/100\n",
            "536/536 [==============================] - 1s 2ms/step - loss: 0.3768 - accuracy: 0.8442 - val_loss: 0.3627 - val_accuracy: 0.8569\n",
            "Epoch 46/100\n",
            "536/536 [==============================] - 1s 2ms/step - loss: 0.3810 - accuracy: 0.8438 - val_loss: 0.3622 - val_accuracy: 0.8550\n",
            "Epoch 47/100\n",
            "536/536 [==============================] - 1s 2ms/step - loss: 0.3727 - accuracy: 0.8436 - val_loss: 0.3726 - val_accuracy: 0.8519\n",
            "Epoch 48/100\n",
            "536/536 [==============================] - 1s 2ms/step - loss: 0.3762 - accuracy: 0.8447 - val_loss: 0.3696 - val_accuracy: 0.8531\n",
            "Epoch 49/100\n",
            "536/536 [==============================] - 1s 2ms/step - loss: 0.3704 - accuracy: 0.8459 - val_loss: 0.3626 - val_accuracy: 0.8527\n",
            "Epoch 50/100\n",
            "536/536 [==============================] - 1s 2ms/step - loss: 0.3779 - accuracy: 0.8425 - val_loss: 0.3638 - val_accuracy: 0.8538\n",
            "Epoch 51/100\n",
            "536/536 [==============================] - 1s 2ms/step - loss: 0.3698 - accuracy: 0.8449 - val_loss: 0.3597 - val_accuracy: 0.8535\n",
            "Epoch 52/100\n",
            "536/536 [==============================] - 1s 2ms/step - loss: 0.3739 - accuracy: 0.8444 - val_loss: 0.3615 - val_accuracy: 0.8527\n",
            "Epoch 53/100\n",
            "536/536 [==============================] - 1s 2ms/step - loss: 0.3749 - accuracy: 0.8431 - val_loss: 0.3629 - val_accuracy: 0.8531\n",
            "Epoch 54/100\n",
            "536/536 [==============================] - 1s 2ms/step - loss: 0.3798 - accuracy: 0.8414 - val_loss: 0.3679 - val_accuracy: 0.8493\n",
            "Epoch 55/100\n",
            "536/536 [==============================] - 1s 2ms/step - loss: 0.3824 - accuracy: 0.8406 - val_loss: 0.3741 - val_accuracy: 0.8504\n",
            "Epoch 56/100\n",
            "536/536 [==============================] - 1s 2ms/step - loss: 0.3689 - accuracy: 0.8462 - val_loss: 0.3677 - val_accuracy: 0.8508\n",
            "Epoch 57/100\n",
            "536/536 [==============================] - 1s 2ms/step - loss: 0.3740 - accuracy: 0.8468 - val_loss: 0.3601 - val_accuracy: 0.8516\n",
            "Epoch 58/100\n",
            "536/536 [==============================] - 1s 2ms/step - loss: 0.3822 - accuracy: 0.8414 - val_loss: 0.3703 - val_accuracy: 0.8482\n",
            "Epoch 59/100\n",
            "536/536 [==============================] - 1s 2ms/step - loss: 0.3740 - accuracy: 0.8431 - val_loss: 0.3665 - val_accuracy: 0.8527\n",
            "Epoch 60/100\n",
            "536/536 [==============================] - 1s 2ms/step - loss: 0.3778 - accuracy: 0.8451 - val_loss: 0.3697 - val_accuracy: 0.8538\n",
            "Epoch 61/100\n",
            "536/536 [==============================] - 1s 2ms/step - loss: 0.3724 - accuracy: 0.8429 - val_loss: 0.3655 - val_accuracy: 0.8508\n",
            "Epoch 62/100\n",
            "536/536 [==============================] - 1s 2ms/step - loss: 0.3752 - accuracy: 0.8444 - val_loss: 0.3651 - val_accuracy: 0.8523\n",
            "Epoch 63/100\n",
            "536/536 [==============================] - 1s 2ms/step - loss: 0.3743 - accuracy: 0.8412 - val_loss: 0.3605 - val_accuracy: 0.8519\n",
            "Epoch 64/100\n",
            "536/536 [==============================] - 1s 2ms/step - loss: 0.3701 - accuracy: 0.8421 - val_loss: 0.3588 - val_accuracy: 0.8542\n",
            "Epoch 65/100\n",
            "536/536 [==============================] - 1s 2ms/step - loss: 0.3775 - accuracy: 0.8447 - val_loss: 0.3636 - val_accuracy: 0.8546\n",
            "Epoch 66/100\n",
            "536/536 [==============================] - 1s 2ms/step - loss: 0.3703 - accuracy: 0.8436 - val_loss: 0.3598 - val_accuracy: 0.8527\n",
            "Epoch 67/100\n",
            "536/536 [==============================] - 1s 2ms/step - loss: 0.3720 - accuracy: 0.8477 - val_loss: 0.3613 - val_accuracy: 0.8542\n",
            "Epoch 68/100\n",
            "536/536 [==============================] - 1s 2ms/step - loss: 0.3724 - accuracy: 0.8462 - val_loss: 0.3638 - val_accuracy: 0.8512\n",
            "Epoch 69/100\n",
            "536/536 [==============================] - 1s 2ms/step - loss: 0.3707 - accuracy: 0.8429 - val_loss: 0.3633 - val_accuracy: 0.8512\n",
            "Epoch 70/100\n",
            "536/536 [==============================] - 1s 2ms/step - loss: 0.3771 - accuracy: 0.8418 - val_loss: 0.3660 - val_accuracy: 0.8535\n",
            "Epoch 71/100\n",
            "536/536 [==============================] - 1s 2ms/step - loss: 0.3817 - accuracy: 0.8406 - val_loss: 0.3636 - val_accuracy: 0.8535\n",
            "Epoch 72/100\n",
            "536/536 [==============================] - 1s 2ms/step - loss: 0.3755 - accuracy: 0.8433 - val_loss: 0.3638 - val_accuracy: 0.8538\n",
            "Epoch 73/100\n",
            "536/536 [==============================] - 1s 2ms/step - loss: 0.3703 - accuracy: 0.8434 - val_loss: 0.3576 - val_accuracy: 0.8554\n",
            "Epoch 74/100\n",
            "536/536 [==============================] - 1s 2ms/step - loss: 0.3755 - accuracy: 0.8438 - val_loss: 0.3680 - val_accuracy: 0.8546\n",
            "Epoch 75/100\n",
            "536/536 [==============================] - 1s 2ms/step - loss: 0.3692 - accuracy: 0.8406 - val_loss: 0.3598 - val_accuracy: 0.8557\n",
            "Epoch 76/100\n",
            "536/536 [==============================] - 1s 2ms/step - loss: 0.3675 - accuracy: 0.8433 - val_loss: 0.3636 - val_accuracy: 0.8523\n",
            "Epoch 77/100\n",
            "536/536 [==============================] - 1s 2ms/step - loss: 0.3708 - accuracy: 0.8433 - val_loss: 0.3644 - val_accuracy: 0.8550\n",
            "Epoch 78/100\n",
            "536/536 [==============================] - 1s 2ms/step - loss: 0.3739 - accuracy: 0.8479 - val_loss: 0.3657 - val_accuracy: 0.8550\n",
            "Epoch 79/100\n",
            "536/536 [==============================] - 1s 2ms/step - loss: 0.3648 - accuracy: 0.8457 - val_loss: 0.3648 - val_accuracy: 0.8516\n",
            "Epoch 80/100\n",
            "536/536 [==============================] - 1s 2ms/step - loss: 0.3730 - accuracy: 0.8427 - val_loss: 0.3661 - val_accuracy: 0.8584\n",
            "Epoch 81/100\n",
            "536/536 [==============================] - 1s 2ms/step - loss: 0.3684 - accuracy: 0.8468 - val_loss: 0.3657 - val_accuracy: 0.8546\n",
            "Epoch 82/100\n",
            "536/536 [==============================] - 1s 2ms/step - loss: 0.3755 - accuracy: 0.8433 - val_loss: 0.3647 - val_accuracy: 0.8519\n",
            "Epoch 83/100\n",
            "536/536 [==============================] - 1s 2ms/step - loss: 0.3690 - accuracy: 0.8447 - val_loss: 0.3632 - val_accuracy: 0.8527\n",
            "Epoch 84/100\n",
            "536/536 [==============================] - 1s 2ms/step - loss: 0.3707 - accuracy: 0.8474 - val_loss: 0.3661 - val_accuracy: 0.8478\n",
            "Epoch 85/100\n",
            "536/536 [==============================] - 1s 2ms/step - loss: 0.3693 - accuracy: 0.8442 - val_loss: 0.3694 - val_accuracy: 0.8485\n",
            "Epoch 86/100\n",
            "536/536 [==============================] - 1s 2ms/step - loss: 0.3695 - accuracy: 0.8466 - val_loss: 0.3755 - val_accuracy: 0.8519\n",
            "Epoch 87/100\n",
            "536/536 [==============================] - 1s 2ms/step - loss: 0.3716 - accuracy: 0.8457 - val_loss: 0.3666 - val_accuracy: 0.8501\n",
            "Epoch 88/100\n",
            "536/536 [==============================] - 1s 2ms/step - loss: 0.3655 - accuracy: 0.8459 - val_loss: 0.3596 - val_accuracy: 0.8504\n",
            "Epoch 89/100\n",
            "536/536 [==============================] - 1s 2ms/step - loss: 0.3696 - accuracy: 0.8436 - val_loss: 0.3632 - val_accuracy: 0.8527\n",
            "Epoch 90/100\n",
            "536/536 [==============================] - 1s 2ms/step - loss: 0.3665 - accuracy: 0.8457 - val_loss: 0.3718 - val_accuracy: 0.8493\n",
            "Epoch 91/100\n",
            "536/536 [==============================] - 1s 2ms/step - loss: 0.3688 - accuracy: 0.8446 - val_loss: 0.3601 - val_accuracy: 0.8512\n",
            "Epoch 92/100\n",
            "536/536 [==============================] - 1s 2ms/step - loss: 0.3713 - accuracy: 0.8425 - val_loss: 0.3623 - val_accuracy: 0.8504\n",
            "Epoch 93/100\n",
            "536/536 [==============================] - 1s 2ms/step - loss: 0.3768 - accuracy: 0.8442 - val_loss: 0.3649 - val_accuracy: 0.8508\n",
            "Epoch 94/100\n",
            "536/536 [==============================] - 1s 2ms/step - loss: 0.3688 - accuracy: 0.8472 - val_loss: 0.3595 - val_accuracy: 0.8519\n",
            "Epoch 95/100\n",
            "536/536 [==============================] - 1s 2ms/step - loss: 0.3806 - accuracy: 0.8373 - val_loss: 0.3622 - val_accuracy: 0.8508\n",
            "Epoch 96/100\n",
            "536/536 [==============================] - 1s 2ms/step - loss: 0.3656 - accuracy: 0.8461 - val_loss: 0.3638 - val_accuracy: 0.8482\n",
            "Epoch 97/100\n",
            "536/536 [==============================] - 1s 2ms/step - loss: 0.3699 - accuracy: 0.8459 - val_loss: 0.3705 - val_accuracy: 0.8538\n",
            "Epoch 98/100\n",
            "536/536 [==============================] - 1s 2ms/step - loss: 0.3715 - accuracy: 0.8459 - val_loss: 0.3640 - val_accuracy: 0.8527\n",
            "Epoch 99/100\n",
            "536/536 [==============================] - 1s 2ms/step - loss: 0.3724 - accuracy: 0.8440 - val_loss: 0.3666 - val_accuracy: 0.8535\n",
            "Epoch 100/100\n",
            "536/536 [==============================] - 1s 2ms/step - loss: 0.3709 - accuracy: 0.8442 - val_loss: 0.3652 - val_accuracy: 0.8531\n"
          ],
          "name": "stdout"
        }
      ]
    },
    {
      "cell_type": "code",
      "metadata": {
        "id": "wxuBh0mPgZmi"
      },
      "source": [
        "# Predicting Test Reults\n",
        "\n",
        "y_pred=classifier.predict(X_test)\n",
        "y_pred=y_pred>0.5"
      ],
      "execution_count": 82,
      "outputs": []
    },
    {
      "cell_type": "code",
      "metadata": {
        "colab": {
          "base_uri": "https://localhost:8080/"
        },
        "id": "Sk01eZBuiWor",
        "outputId": "b58705cb-424b-47fe-c6ea-d3ae6fc012ca"
      },
      "source": [
        "# Making a Confusion matrix\n",
        "cm=confusion_matrix(y_test,y_pred)\n",
        "cm"
      ],
      "execution_count": 83,
      "outputs": [
        {
          "output_type": "execute_result",
          "data": {
            "text/plain": [
              "array([[1554,   41],\n",
              "       [ 225,  180]])"
            ]
          },
          "metadata": {
            "tags": []
          },
          "execution_count": 83
        }
      ]
    },
    {
      "cell_type": "code",
      "metadata": {
        "colab": {
          "base_uri": "https://localhost:8080/"
        },
        "id": "_hWI9f-vit0e",
        "outputId": "71a01930-4f9a-4fed-836e-03a317ce7314"
      },
      "source": [
        "# Calculate Accuracy\n",
        "\n",
        "score=accuracy_score(y_test,y_pred)\n",
        "score"
      ],
      "execution_count": 84,
      "outputs": [
        {
          "output_type": "execute_result",
          "data": {
            "text/plain": [
              "0.867"
            ]
          },
          "metadata": {
            "tags": []
          },
          "execution_count": 84
        }
      ]
    },
    {
      "cell_type": "code",
      "metadata": {
        "colab": {
          "base_uri": "https://localhost:8080/"
        },
        "id": "45kwO9bakSHm",
        "outputId": "7a476125-fe05-4e37-8a68-d5d5c0ac9cc8"
      },
      "source": [
        "classifier.summary()  # details of ANN architecture"
      ],
      "execution_count": 85,
      "outputs": [
        {
          "output_type": "stream",
          "text": [
            "Model: \"sequential_7\"\n",
            "_________________________________________________________________\n",
            "Layer (type)                 Output Shape              Param #   \n",
            "=================================================================\n",
            "dense_14 (Dense)             (None, 10)                140       \n",
            "_________________________________________________________________\n",
            "dropout (Dropout)            (None, 10)                0         \n",
            "_________________________________________________________________\n",
            "dense_15 (Dense)             (None, 20)                220       \n",
            "_________________________________________________________________\n",
            "dropout_1 (Dropout)          (None, 20)                0         \n",
            "_________________________________________________________________\n",
            "dense_16 (Dense)             (None, 15)                315       \n",
            "_________________________________________________________________\n",
            "dropout_2 (Dropout)          (None, 15)                0         \n",
            "_________________________________________________________________\n",
            "dense_17 (Dense)             (None, 1)                 16        \n",
            "=================================================================\n",
            "Total params: 691\n",
            "Trainable params: 691\n",
            "Non-trainable params: 0\n",
            "_________________________________________________________________\n"
          ],
          "name": "stdout"
        }
      ]
    },
    {
      "cell_type": "code",
      "metadata": {
        "colab": {
          "base_uri": "https://localhost:8080/",
          "height": 295
        },
        "id": "5B8BD9AXi2oS",
        "outputId": "6ce620cb-eeeb-4012-c96e-61a229c5c2f2"
      },
      "source": [
        "#summarize history for loss\n",
        "\n",
        "plt.plot(model_history.history['loss'])\n",
        "plt.plot(model_history.history['val_loss'])\n",
        "\n",
        "plt.title('model loss')\n",
        "plt.ylabel('loss')\n",
        "plt.xlabel('epoch')\n",
        "plt.legend(['train','test'],loc='upper right')\n",
        "plt.show()"
      ],
      "execution_count": 86,
      "outputs": [
        {
          "output_type": "display_data",
          "data": {
            "image/png": "[encoded data removed]",
            "text/plain": [
              "<Figure size 432x288 with 1 Axes>"
            ]
          },
          "metadata": {
            "tags": [],
            "needs_background": "light"
          }
        }
      ]
    },
    {
      "cell_type": "code",
      "metadata": {
        "id": "w9drQNphjS0y"
      },
      "source": [
        ""
      ],
      "execution_count": null,
      "outputs": []
    }
  ]
}